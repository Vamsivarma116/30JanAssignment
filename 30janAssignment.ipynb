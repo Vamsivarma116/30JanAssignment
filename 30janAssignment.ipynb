{
 "cells": [
  {
   "cell_type": "code",
   "execution_count": 1,
   "id": "10ddcc48-ba36-41d5-a7a9-139430ca0e6d",
   "metadata": {},
   "outputs": [
    {
     "name": "stdin",
     "output_type": "stream",
     "text": [
      " 34\n"
     ]
    },
    {
     "name": "stdout",
     "output_type": "stream",
     "text": [
      "D\n"
     ]
    }
   ],
   "source": [
    "#1.Write a program to accept percentage from the user and display the grade according to the following criteria:\n",
    "\n",
    "Percentage=int(input())\n",
    "\n",
    "if(Percentage > 90 and Percentage<=100):\n",
    "    print(\"A\")\n",
    "elif(Percentage>80 and Percentage<=90):\n",
    "    print(\"B\")\n",
    "elif(Percentage>=60 and Percentage<=80):\n",
    "    print(\"C\")\n",
    "elif(Percentage<60):\n",
    "    print(\"D\")\n",
    "else:\n",
    "    print(\"Invalid Percentage\")"
   ]
  },
  {
   "cell_type": "code",
   "execution_count": 5,
   "id": "96afa750-caec-4a95-8eae-80997bdf8e5a",
   "metadata": {},
   "outputs": [
    {
     "name": "stdin",
     "output_type": "stream",
     "text": [
      " 277282\n"
     ]
    },
    {
     "name": "stdout",
     "output_type": "stream",
     "text": [
      "15%\n"
     ]
    }
   ],
   "source": [
    "#2. Write a program to accept the cost price of a bike and \n",
    "#   display the road tax to be paid according to the following criteria ?\n",
    "cp_of_bike=int(input())\n",
    "\n",
    "if( cp_of_bike > 100000 ):\n",
    "    print(\"15\"+\"%\")\n",
    "elif(cp_of_bike > 50000 and cp_of_bike <= 100000):\n",
    "    print(\"10\"+\"%\")\n",
    "elif(cp_of_bike <= 50000):\n",
    "    print(\"5\"+\"%\")"
   ]
  },
  {
   "cell_type": "code",
   "execution_count": 9,
   "id": "ae3e01e5-8639-4672-83ce-8873fe918c00",
   "metadata": {},
   "outputs": [
    {
     "name": "stdin",
     "output_type": "stream",
     "text": [
      " Agra\n"
     ]
    },
    {
     "name": "stdout",
     "output_type": "stream",
     "text": [
      "Taj Mahal\n"
     ]
    }
   ],
   "source": [
    "#3. Accept any city from the user and display monumentsof that city ?\n",
    "\n",
    "City=input()\n",
    "\n",
    "if(City.lower()==\"Delhi\".lower()):\n",
    "    print(\"Red Fort\")\n",
    "elif(City.lower()==\"Agra\".lower()):\n",
    "    print(\"Taj Mahal\")\n",
    "elif(City.lower()==\"Jaipur\".lower()):\n",
    "    print(\"Jai Mahal\")"
   ]
  },
  {
   "cell_type": "code",
   "execution_count": 1,
   "id": "09b1b552-ecdb-4ad2-a7fa-39fb85b9fb37",
   "metadata": {},
   "outputs": [
    {
     "name": "stdin",
     "output_type": "stream",
     "text": [
      " 99\n"
     ]
    },
    {
     "name": "stdout",
     "output_type": "stream",
     "text": [
      "3\n"
     ]
    }
   ],
   "source": [
    "#4. Check how many times a given number can be divided by 3 before it is less than or equal to 10 ?\n",
    "\n",
    "x=int(input())\n",
    "count=0 \n",
    "while(x > 10):\n",
    "    x=x/3\n",
    "    count=count+1\n",
    "\n",
    "print(count)"
   ]
  },
  {
   "cell_type": "raw",
   "id": "695ed227-95be-451f-8b7a-9e5c740932ae",
   "metadata": {},
   "source": [
    "#5. Why and when to use while loop in python give a detailed description with example  ?\n",
    "\n",
    "While loop-->\n",
    "   *A while loop will run a piece of code while a condition is True. It will keep executing the desired set of code statements until that condition is no longer True.\n",
    "   *A while loop will always first check the condition before running.\n",
    "   *If the condition evaluates to True then the loop will run the code within the loop's body.\n",
    "    \n",
    "Example-->\n",
    "\n",
    "number = 0\n",
    "while number < 10:\n",
    "    print(\"Number is \",number,\"!\")\n",
    "    number = number + 1\n",
    "output:\n",
    "    Number is 0!\n",
    "    Number is 1!\n",
    "    Number is 2!\n",
    "    Number is 3!\n",
    "    Number is 4!\n",
    "    Number is 5!\n",
    "    Number is 6!\n",
    "    Number is 7!\n",
    "    Number is 8!\n",
    "    Number is 9!"
   ]
  },
  {
   "cell_type": "code",
   "execution_count": 6,
   "id": "f2ffc6d6-b6fa-410a-98c3-d3e57b5b0932",
   "metadata": {},
   "outputs": [
    {
     "name": "stdin",
     "output_type": "stream",
     "text": [
      " 5\n"
     ]
    },
    {
     "name": "stdout",
     "output_type": "stream",
     "text": [
      "1\n",
      "*****\n",
      "*****\n",
      "*****\n",
      "*****\n",
      "*****\n",
      "2\n",
      "\n",
      "*\n",
      "**\n",
      "***\n",
      "****\n",
      "3\n",
      "****\n",
      "***\n",
      "**\n",
      "*\n",
      "\n"
     ]
    }
   ],
   "source": [
    "#6. Use nested while loop to print 3 different patterns ?\n",
    "\n",
    "\n",
    "n=int(input())\n",
    "print(1)\n",
    "i1=0\n",
    "while(i1<n):\n",
    "    j1=0\n",
    "    while(j1<n):\n",
    "        print(\"*\",end=\"\")\n",
    "        j1=j1+1\n",
    "    print()\n",
    "    i1=i1+1\n",
    "print(2)\n",
    "i2=0\n",
    "while(i2<n):\n",
    "    j2=0\n",
    "    while(j2<i2):\n",
    "        print(\"*\",end=\"\")\n",
    "        j2=j2+1\n",
    "    print()\n",
    "    i2=i2+1\n",
    "print(3)\n",
    "i3=0\n",
    "while(i3<n):\n",
    "    j3=0\n",
    "    while(j3<(n-i3-1)):\n",
    "        print(\"*\",end=\"\")\n",
    "        j3=j3+1\n",
    "    print()\n",
    "    i3=i3+1"
   ]
  },
  {
   "cell_type": "code",
   "execution_count": 8,
   "id": "4ac4d754-d796-434f-99e3-3251ff9bfc5e",
   "metadata": {},
   "outputs": [
    {
     "name": "stdout",
     "output_type": "stream",
     "text": [
      "10\n",
      "9\n",
      "8\n",
      "7\n",
      "6\n",
      "5\n",
      "4\n",
      "3\n",
      "2\n",
      "1\n"
     ]
    }
   ],
   "source": [
    "#7. Reverse a while loop to display numbers from 10 to 1 ?\n",
    "\n",
    "n=10\n",
    "while(n>0):\n",
    "    print(n)\n",
    "    n=n-1"
   ]
  }
 ],
 "metadata": {
  "kernelspec": {
   "display_name": "Python 3 (ipykernel)",
   "language": "python",
   "name": "python3"
  },
  "language_info": {
   "codemirror_mode": {
    "name": "ipython",
    "version": 3
   },
   "file_extension": ".py",
   "mimetype": "text/x-python",
   "name": "python",
   "nbconvert_exporter": "python",
   "pygments_lexer": "ipython3",
   "version": "3.10.8"
  }
 },
 "nbformat": 4,
 "nbformat_minor": 5
}
